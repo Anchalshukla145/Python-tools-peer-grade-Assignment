{
 "cells": [
  {
   "cell_type": "markdown",
   "id": "287f1335-c62a-435a-9fd2-2099f4d9228a",
   "metadata": {},
   "source": [
    "# 1. Data Science Tools and Ecosystem\n"
   ]
  },
  {
   "cell_type": "markdown",
   "id": "f9c492f0-7344-4758-b80e-cc03db84007f",
   "metadata": {},
   "source": [
    "2. In this notebook, we summarize some of the key tools and concepts in data science.\n"
   ]
  },
  {
   "cell_type": "markdown",
   "id": "221edbae-dd26-4c73-a760-926db9d64cd8",
   "metadata": {},
   "source": [
    "3. **Some popular languages used in Data Science are:**\n",
    "- Python\n",
    "- R\n",
    "- SQL\n",
    "- Julia\n"
   ]
  },
  {
   "cell_type": "markdown",
   "id": "b5697509-c58f-4726-b050-8bd033c2c7eb",
   "metadata": {},
   "source": [
    "4. **Some common libraries used in Data Science are:**\n",
    "- Pandas\n",
    "- NumPy\n",
    "- Matplotlib\n",
    "- Scikit-learn\n",
    "- TensorFlow\n"
   ]
  },
  {
   "cell_type": "markdown",
   "id": "86dac757-477f-41bc-9ad9-6c783a5adb5b",
   "metadata": {},
   "source": [
    "5. | Tool           | Description                 |\n",
    "|----------------|-----------------------------|\n",
    "| Jupyter Notebook | Interactive computing environment |\n",
    "| RStudio        | IDE for R                    |\n",
    "| Apache Spark   | Big Data processing framework |\n"
   ]
  },
  {
   "cell_type": "markdown",
   "id": "5a9f7531-4aaa-4511-899a-3c223adeef1d",
   "metadata": {},
   "source": [
    "6. Below are some examples of simple arithmetic expressions using code.\n"
   ]
  },
  {
   "cell_type": "code",
   "execution_count": 13,
   "id": "a9aeda54-54fd-46cb-9ccf-828af8be3dc7",
   "metadata": {},
   "outputs": [
    {
     "data": {
      "text/plain": [
       "17"
      ]
     },
     "execution_count": 13,
     "metadata": {},
     "output_type": "execute_result"
    }
   ],
   "source": [
    "(3*4)+5"
   ]
  },
  {
   "cell_type": "code",
   "execution_count": null,
   "id": "b3d439c2-883e-4fd3-acde-007f0602fb9e",
   "metadata": {},
   "outputs": [],
   "source": []
  }
 ],
 "metadata": {
  "kernelspec": {
   "display_name": "Python 3 (ipykernel)",
   "language": "python",
   "name": "python3"
  },
  "language_info": {
   "codemirror_mode": {
    "name": "ipython",
    "version": 3
   },
   "file_extension": ".py",
   "mimetype": "text/x-python",
   "name": "python",
   "nbconvert_exporter": "python",
   "pygments_lexer": "ipython3",
   "version": "3.12.7"
  }
 },
 "nbformat": 4,
 "nbformat_minor": 5
}
